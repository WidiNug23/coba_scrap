{
 "cells": [
  {
   "cell_type": "code",
   "execution_count": null,
   "id": "aefdf043",
   "metadata": {},
   "outputs": [],
   "source": [
    "import csv\n",
    "import requests\n",
    "from bs4 import BeautifulSoup as bs\n",
    "\n",
    "URL = 'https://www.ebay.com/b/Camera-Lenses/3323/bn_1884683'\n",
    "\n",
    "data = []  # List untuk menyimpan data judul dan harga produk\n",
    "\n",
    "for page in range(1, 4):\n",
    "    req = requests.get(f'{URL}?_pgn={page}')  # Mengirim permintaan GET ke URL halaman yang sesuai dengan nomor halaman saat ini\n",
    "    soup = bs(req.text, 'html.parser')\n",
    "\n",
    "    titles = soup.find_all('h3', class_='s-item__title')\n",
    "    prices = soup.find_all('span', class_='s-item__price')\n",
    "\n",
    "    for i in range(min(len(titles), len(prices))):\n",
    "        title = titles[i].text.strip()\n",
    "        price = prices[i].text.strip()\n",
    "        data.append([title, price])\n",
    "\n",
    "# Menyimpan data ke dalam file CSV\n",
    "filename = 'UAS_Python.csv'\n",
    "\n",
    "with open(filename, 'w', newline='', encoding='utf-8') as csvfile:\n",
    "    writer = csv.writer(csvfile)\n",
    "    writer.writerow(['Title', 'Price'])  # Menulis header kolom\n",
    "    writer.writerows(data)  # Menulis data produk\n",
    "\n",
    "print(f\"Data has been saved to {filename}\")\n"
   ]
  },
  {
   "cell_type": "code",
   "execution_count": null,
   "id": "fd8f6ebe",
   "metadata": {},
   "outputs": [],
   "source": [
    "import requests\n",
    "from bs4 import BeautifulSoup as bs\n",
    "\n",
    "URL = 'https://www.ebay.com/b/Camera-Lenses/3323/bn_1884683'\n",
    "\n",
    "for page in range(1, 4):\n",
    "    print(\"\\n\")\n",
    "    print(\"Page:\", page, \"\\n\")\n",
    "\n",
    "    req = requests.get(URL)\n",
    "    soup = bs(req.content, 'html.parser')\n",
    "\n",
    "    titles = soup.find_all('h3', class_='s-item__title')\n",
    "    prices = soup.find_all('span', class_='s-item__price')\n",
    "\n",
    "    for i in range(min(len(titles), len(prices))):\n",
    "        title = titles[i].text.strip()\n",
    "        price = prices[i].text.strip()\n",
    "        print(f\"{i+1} Title: {title} - Price: {price}\")\n",
    "\n"
   ]
  },
  {
   "cell_type": "code",
   "execution_count": null,
   "id": "1213f13a",
   "metadata": {},
   "outputs": [],
   "source": [
    "try:\n",
    "    import requests\n",
    "from bs4 import BeautifulSoup as bs\n",
    "\n",
    "URL = 'https://www.ebay.com/b/Camera-Lenses/3323/bn_1884683'\n",
    "\n",
    "for page in range(1, 4):\n",
    "    print(\"\\n\")\n",
    "    print(\"Page:\", page, \"\\n\")\n",
    "\n",
    "    req = requests.get(URL)\n",
    "    soup = bs(req.content, 'html.parser')\n",
    "\n",
    "    titles = soup.find_all('h3', class_='s-item__title')\n",
    "    prices = soup.find_all('span', class_='s-item__price')\n",
    "\n",
    "    for i in range(min(len(titles), len(prices))):\n",
    "        title = titles[i].text.strip()\n",
    "        price = prices[i].text.strip()\n",
    "        print(f\"{i+1} Title: {title} - Price: {price}\")\n",
    "\n",
    "\n",
    "except Exception as e:\n",
    "    import traceback\n",
    "    traceback.print_exc()\n",
    "    print(f\"Error: {e}\")\n"
   ]
  },
  {
   "cell_type": "code",
   "execution_count": null,
   "id": "f9a7b2e3",
   "metadata": {},
   "outputs": [
    {
     "name": "stdout",
     "output_type": "stream",
     "text": [
      "\n",
      "\n",
      "Page: 1 \n",
      "\n",
      "\n",
      "\n",
      "Page: 2 \n",
      "\n"
     ]
    }
   ],
   "source": [
    "import requests\n",
    "from bs4 import BeautifulSoup as bs\n",
    "\n",
    "URL = 'https://www.ebay.com/b/Camera-Lenses/3323/bn_1884683'\n",
    "\n",
    "for page in range(1, 4):\n",
    "    print(\"\\n\")\n",
    "    print(\"Page:\", page, \"\\n\")\n",
    "\n",
    "    req = requests.get(URL)\n",
    "    soup = bs(req.content, 'html.parser')\n",
    "\n",
    "    titles = soup.find_all('h3', class_='s-item__title')\n",
    "    prices = soup.find_all('span', class_='s-item__price')\n",
    "\n",
    "    for i in range(min(len(titles), len(prices))):\n",
    "        title = titles[i].text.strip()\n",
    "        price = prices[i].text.strip()\n",
    "        print(f\"{i+1} Title: {title} - Price: {price}\")\n",
    "\n"
   ]
  },
  {
   "cell_type": "code",
   "execution_count": null,
   "id": "9118ac34",
   "metadata": {},
   "outputs": [],
   "source": []
  }
 ],
 "metadata": {
  "kernelspec": {
   "display_name": "Python 3 (ipykernel)",
   "language": "python",
   "name": "python3"
  },
  "language_info": {
   "codemirror_mode": {
    "name": "ipython",
    "version": 3
   },
   "file_extension": ".py",
   "mimetype": "text/x-python",
   "name": "python",
   "nbconvert_exporter": "python",
   "pygments_lexer": "ipython3",
   "version": "3.9.12"
  }
 },
 "nbformat": 4,
 "nbformat_minor": 5
}
